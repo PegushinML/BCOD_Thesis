{
 "cells": [
  {
   "cell_type": "code",
   "execution_count": 2,
   "metadata": {
    "collapsed": true
   },
   "outputs": [],
   "source": [
    "import pandas as pd\n",
    "import numpy as np\n",
    "import matplotlib.pylab as plt\n",
    "%matplotlib inline"
   ]
  },
  {
   "cell_type": "markdown",
   "metadata": {},
   "source": [
    "# Data observation"
   ]
  },
  {
   "cell_type": "markdown",
   "metadata": {},
   "source": [
    "## Transactions data"
   ]
  },
  {
   "cell_type": "code",
   "execution_count": 3,
   "metadata": {
    "collapsed": true
   },
   "outputs": [],
   "source": [
    "transactions_data = pd.read_csv('transactions.csv')"
   ]
  },
  {
   "cell_type": "code",
   "execution_count": 4,
   "metadata": {},
   "outputs": [
    {
     "data": {
      "text/html": [
       "<div>\n",
       "<style>\n",
       "    .dataframe thead tr:only-child th {\n",
       "        text-align: right;\n",
       "    }\n",
       "\n",
       "    .dataframe thead th {\n",
       "        text-align: left;\n",
       "    }\n",
       "\n",
       "    .dataframe tbody tr th {\n",
       "        vertical-align: top;\n",
       "    }\n",
       "</style>\n",
       "<table border=\"1\" class=\"dataframe\">\n",
       "  <thead>\n",
       "    <tr style=\"text-align: right;\">\n",
       "      <th></th>\n",
       "      <th>customer_id</th>\n",
       "      <th>tr_datetime</th>\n",
       "      <th>mcc_code</th>\n",
       "      <th>tr_type</th>\n",
       "      <th>amount</th>\n",
       "      <th>term_id</th>\n",
       "    </tr>\n",
       "  </thead>\n",
       "  <tbody>\n",
       "    <tr>\n",
       "      <th>6849341</th>\n",
       "      <td>61870738</td>\n",
       "      <td>453 16:03:02</td>\n",
       "      <td>5499</td>\n",
       "      <td>1010</td>\n",
       "      <td>-5176.84</td>\n",
       "      <td>10217113</td>\n",
       "    </tr>\n",
       "    <tr>\n",
       "      <th>6849342</th>\n",
       "      <td>61870738</td>\n",
       "      <td>454 10:54:60</td>\n",
       "      <td>5411</td>\n",
       "      <td>1010</td>\n",
       "      <td>-1652.77</td>\n",
       "      <td>022915</td>\n",
       "    </tr>\n",
       "    <tr>\n",
       "      <th>6849343</th>\n",
       "      <td>61870738</td>\n",
       "      <td>454 14:23:59</td>\n",
       "      <td>5499</td>\n",
       "      <td>1010</td>\n",
       "      <td>-4687.23</td>\n",
       "      <td>10217113</td>\n",
       "    </tr>\n",
       "    <tr>\n",
       "      <th>6849344</th>\n",
       "      <td>61870738</td>\n",
       "      <td>454 16:11:53</td>\n",
       "      <td>5541</td>\n",
       "      <td>1110</td>\n",
       "      <td>-4491.83</td>\n",
       "      <td>RU570124</td>\n",
       "    </tr>\n",
       "    <tr>\n",
       "      <th>6849345</th>\n",
       "      <td>61870738</td>\n",
       "      <td>454 18:06:30</td>\n",
       "      <td>6011</td>\n",
       "      <td>7010</td>\n",
       "      <td>408756.67</td>\n",
       "      <td>372701</td>\n",
       "    </tr>\n",
       "  </tbody>\n",
       "</table>\n",
       "</div>"
      ],
      "text/plain": [
       "         customer_id   tr_datetime  mcc_code  tr_type     amount   term_id\n",
       "6849341     61870738  453 16:03:02      5499     1010   -5176.84  10217113\n",
       "6849342     61870738  454 10:54:60      5411     1010   -1652.77    022915\n",
       "6849343     61870738  454 14:23:59      5499     1010   -4687.23  10217113\n",
       "6849344     61870738  454 16:11:53      5541     1110   -4491.83  RU570124\n",
       "6849345     61870738  454 18:06:30      6011     7010  408756.67    372701"
      ]
     },
     "execution_count": 4,
     "metadata": {},
     "output_type": "execute_result"
    }
   ],
   "source": [
    "transactions_data.tail()"
   ]
  },
  {
   "cell_type": "code",
   "execution_count": 5,
   "metadata": {},
   "outputs": [
    {
     "name": "stdout",
     "output_type": "stream",
     "text": [
      "<class 'pandas.core.frame.DataFrame'>\n",
      "RangeIndex: 6849346 entries, 0 to 6849345\n",
      "Data columns (total 6 columns):\n",
      "customer_id    int64\n",
      "tr_datetime    object\n",
      "mcc_code       int64\n",
      "tr_type        int64\n",
      "amount         float64\n",
      "term_id        object\n",
      "dtypes: float64(1), int64(3), object(2)\n",
      "memory usage: 313.5+ MB\n"
     ]
    }
   ],
   "source": [
    "transactions_data.info()"
   ]
  },
  {
   "cell_type": "code",
   "execution_count": 6,
   "metadata": {
    "collapsed": true
   },
   "outputs": [],
   "source": [
    "customers = np.unique(transactions_data['customer_id'])"
   ]
  },
  {
   "cell_type": "markdown",
   "metadata": {},
   "source": [
    "## MCC_Codes data"
   ]
  },
  {
   "cell_type": "code",
   "execution_count": 7,
   "metadata": {
    "collapsed": true
   },
   "outputs": [],
   "source": [
    "tr_mcc_codes = pd.read_csv('tr_mcc_codes.csv', sep=';')"
   ]
  },
  {
   "cell_type": "code",
   "execution_count": 8,
   "metadata": {},
   "outputs": [
    {
     "data": {
      "text/html": [
       "<div>\n",
       "<style>\n",
       "    .dataframe thead tr:only-child th {\n",
       "        text-align: right;\n",
       "    }\n",
       "\n",
       "    .dataframe thead th {\n",
       "        text-align: left;\n",
       "    }\n",
       "\n",
       "    .dataframe tbody tr th {\n",
       "        vertical-align: top;\n",
       "    }\n",
       "</style>\n",
       "<table border=\"1\" class=\"dataframe\">\n",
       "  <thead>\n",
       "    <tr style=\"text-align: right;\">\n",
       "      <th></th>\n",
       "      <th>mcc_code</th>\n",
       "      <th>mcc_description</th>\n",
       "    </tr>\n",
       "  </thead>\n",
       "  <tbody>\n",
       "    <tr>\n",
       "      <th>0</th>\n",
       "      <td>742</td>\n",
       "      <td>Ветеринарные услуги</td>\n",
       "    </tr>\n",
       "    <tr>\n",
       "      <th>1</th>\n",
       "      <td>1711</td>\n",
       "      <td>Генеральные подрядчики по вентиляции, теплосна...</td>\n",
       "    </tr>\n",
       "    <tr>\n",
       "      <th>2</th>\n",
       "      <td>1731</td>\n",
       "      <td>Подрядчики по электричеству</td>\n",
       "    </tr>\n",
       "    <tr>\n",
       "      <th>3</th>\n",
       "      <td>1799</td>\n",
       "      <td>Подрядчики, специализированная торговля — нигд...</td>\n",
       "    </tr>\n",
       "    <tr>\n",
       "      <th>4</th>\n",
       "      <td>2741</td>\n",
       "      <td>Разнообразные издательства/печатное дело</td>\n",
       "    </tr>\n",
       "  </tbody>\n",
       "</table>\n",
       "</div>"
      ],
      "text/plain": [
       "   mcc_code                                    mcc_description\n",
       "0       742                                Ветеринарные услуги\n",
       "1      1711  Генеральные подрядчики по вентиляции, теплосна...\n",
       "2      1731                        Подрядчики по электричеству\n",
       "3      1799  Подрядчики, специализированная торговля — нигд...\n",
       "4      2741           Разнообразные издательства/печатное дело"
      ]
     },
     "execution_count": 8,
     "metadata": {},
     "output_type": "execute_result"
    }
   ],
   "source": [
    "tr_mcc_codes.head()"
   ]
  },
  {
   "cell_type": "code",
   "execution_count": 9,
   "metadata": {},
   "outputs": [
    {
     "name": "stdout",
     "output_type": "stream",
     "text": [
      "<class 'pandas.core.frame.DataFrame'>\n",
      "RangeIndex: 184 entries, 0 to 183\n",
      "Data columns (total 2 columns):\n",
      "mcc_code           184 non-null int64\n",
      "mcc_description    184 non-null object\n",
      "dtypes: int64(1), object(1)\n",
      "memory usage: 3.0+ KB\n"
     ]
    }
   ],
   "source": [
    "tr_mcc_codes.info()"
   ]
  },
  {
   "cell_type": "markdown",
   "metadata": {},
   "source": [
    "## Transactions type data"
   ]
  },
  {
   "cell_type": "code",
   "execution_count": 10,
   "metadata": {
    "collapsed": true
   },
   "outputs": [],
   "source": [
    "tr_types = pd.read_csv('tr_types.csv', sep=';')"
   ]
  },
  {
   "cell_type": "code",
   "execution_count": 11,
   "metadata": {},
   "outputs": [
    {
     "data": {
      "text/html": [
       "<div>\n",
       "<style>\n",
       "    .dataframe thead tr:only-child th {\n",
       "        text-align: right;\n",
       "    }\n",
       "\n",
       "    .dataframe thead th {\n",
       "        text-align: left;\n",
       "    }\n",
       "\n",
       "    .dataframe tbody tr th {\n",
       "        vertical-align: top;\n",
       "    }\n",
       "</style>\n",
       "<table border=\"1\" class=\"dataframe\">\n",
       "  <thead>\n",
       "    <tr style=\"text-align: right;\">\n",
       "      <th></th>\n",
       "      <th>tr_type</th>\n",
       "      <th>tr_description</th>\n",
       "    </tr>\n",
       "  </thead>\n",
       "  <tbody>\n",
       "    <tr>\n",
       "      <th>0</th>\n",
       "      <td>3200</td>\n",
       "      <td>Плата за предоставление услуг посредством моби...</td>\n",
       "    </tr>\n",
       "    <tr>\n",
       "      <th>1</th>\n",
       "      <td>3210</td>\n",
       "      <td>Плата за предоставление отчета по счету карты ...</td>\n",
       "    </tr>\n",
       "    <tr>\n",
       "      <th>2</th>\n",
       "      <td>3800</td>\n",
       "      <td>Плата за обслуживание банковской карты (за пер...</td>\n",
       "    </tr>\n",
       "    <tr>\n",
       "      <th>3</th>\n",
       "      <td>4000</td>\n",
       "      <td>Плата за получение наличных в Сбербанке</td>\n",
       "    </tr>\n",
       "    <tr>\n",
       "      <th>4</th>\n",
       "      <td>4001</td>\n",
       "      <td>Плата за получение наличных в Сбербанке (в дру...</td>\n",
       "    </tr>\n",
       "  </tbody>\n",
       "</table>\n",
       "</div>"
      ],
      "text/plain": [
       "   tr_type                                     tr_description\n",
       "0     3200  Плата за предоставление услуг посредством моби...\n",
       "1     3210  Плата за предоставление отчета по счету карты ...\n",
       "2     3800  Плата за обслуживание банковской карты (за пер...\n",
       "3     4000            Плата за получение наличных в Сбербанке\n",
       "4     4001  Плата за получение наличных в Сбербанке (в дру..."
      ]
     },
     "execution_count": 11,
     "metadata": {},
     "output_type": "execute_result"
    }
   ],
   "source": [
    "tr_types.head()"
   ]
  },
  {
   "cell_type": "code",
   "execution_count": 12,
   "metadata": {
    "scrolled": true
   },
   "outputs": [
    {
     "name": "stdout",
     "output_type": "stream",
     "text": [
      "<class 'pandas.core.frame.DataFrame'>\n",
      "RangeIndex: 155 entries, 0 to 154\n",
      "Data columns (total 2 columns):\n",
      "tr_type           155 non-null int64\n",
      "tr_description    155 non-null object\n",
      "dtypes: int64(1), object(1)\n",
      "memory usage: 2.5+ KB\n"
     ]
    }
   ],
   "source": [
    "tr_types.info()"
   ]
  },
  {
   "cell_type": "markdown",
   "metadata": {},
   "source": [
    "## Date transformation"
   ]
  },
  {
   "cell_type": "code",
   "execution_count": 13,
   "metadata": {
    "collapsed": true
   },
   "outputs": [],
   "source": [
    "transactions_data['day'] = list(map(lambda x: x.split()[0], transactions_data['tr_datetime']))"
   ]
  },
  {
   "cell_type": "code",
   "execution_count": 14,
   "metadata": {},
   "outputs": [
    {
     "data": {
      "text/html": [
       "<div>\n",
       "<style>\n",
       "    .dataframe thead tr:only-child th {\n",
       "        text-align: right;\n",
       "    }\n",
       "\n",
       "    .dataframe thead th {\n",
       "        text-align: left;\n",
       "    }\n",
       "\n",
       "    .dataframe tbody tr th {\n",
       "        vertical-align: top;\n",
       "    }\n",
       "</style>\n",
       "<table border=\"1\" class=\"dataframe\">\n",
       "  <thead>\n",
       "    <tr style=\"text-align: right;\">\n",
       "      <th></th>\n",
       "      <th>customer_id</th>\n",
       "      <th>tr_datetime</th>\n",
       "      <th>mcc_code</th>\n",
       "      <th>tr_type</th>\n",
       "      <th>amount</th>\n",
       "      <th>term_id</th>\n",
       "      <th>day</th>\n",
       "    </tr>\n",
       "  </thead>\n",
       "  <tbody>\n",
       "    <tr>\n",
       "      <th>0</th>\n",
       "      <td>39026145</td>\n",
       "      <td>0 10:23:26</td>\n",
       "      <td>4814</td>\n",
       "      <td>1030</td>\n",
       "      <td>-2245.92</td>\n",
       "      <td>NaN</td>\n",
       "      <td>0</td>\n",
       "    </tr>\n",
       "    <tr>\n",
       "      <th>1</th>\n",
       "      <td>39026145</td>\n",
       "      <td>1 10:19:29</td>\n",
       "      <td>6011</td>\n",
       "      <td>7010</td>\n",
       "      <td>56147.89</td>\n",
       "      <td>NaN</td>\n",
       "      <td>1</td>\n",
       "    </tr>\n",
       "    <tr>\n",
       "      <th>2</th>\n",
       "      <td>39026145</td>\n",
       "      <td>1 10:20:56</td>\n",
       "      <td>4829</td>\n",
       "      <td>2330</td>\n",
       "      <td>-56147.89</td>\n",
       "      <td>NaN</td>\n",
       "      <td>1</td>\n",
       "    </tr>\n",
       "    <tr>\n",
       "      <th>3</th>\n",
       "      <td>39026145</td>\n",
       "      <td>1 10:39:54</td>\n",
       "      <td>5499</td>\n",
       "      <td>1010</td>\n",
       "      <td>-1392.47</td>\n",
       "      <td>NaN</td>\n",
       "      <td>1</td>\n",
       "    </tr>\n",
       "    <tr>\n",
       "      <th>4</th>\n",
       "      <td>39026145</td>\n",
       "      <td>2 15:33:42</td>\n",
       "      <td>5499</td>\n",
       "      <td>1010</td>\n",
       "      <td>-920.83</td>\n",
       "      <td>NaN</td>\n",
       "      <td>2</td>\n",
       "    </tr>\n",
       "  </tbody>\n",
       "</table>\n",
       "</div>"
      ],
      "text/plain": [
       "   customer_id tr_datetime  mcc_code  tr_type    amount term_id day\n",
       "0     39026145  0 10:23:26      4814     1030  -2245.92     NaN   0\n",
       "1     39026145  1 10:19:29      6011     7010  56147.89     NaN   1\n",
       "2     39026145  1 10:20:56      4829     2330 -56147.89     NaN   1\n",
       "3     39026145  1 10:39:54      5499     1010  -1392.47     NaN   1\n",
       "4     39026145  2 15:33:42      5499     1010   -920.83     NaN   2"
      ]
     },
     "execution_count": 14,
     "metadata": {},
     "output_type": "execute_result"
    }
   ],
   "source": [
    "transactions_data.head()"
   ]
  },
  {
   "cell_type": "markdown",
   "metadata": {
    "collapsed": true
   },
   "source": [
    "## Info"
   ]
  },
  {
   "cell_type": "code",
   "execution_count": 15,
   "metadata": {},
   "outputs": [
    {
     "name": "stdout",
     "output_type": "stream",
     "text": [
      "There are 15000 customers.\n",
      "There are 155 transaction types.\n",
      "There are 184 MCC codes.\n",
      "The possible period of transactions observation is 454 18:06:30.\n"
     ]
    }
   ],
   "source": [
    "print(\"There are %s customers.\" % len(customers))\n",
    "print(\"There are %s transaction types.\" % len(tr_types))\n",
    "print(\"There are %s MCC codes.\" % len(tr_mcc_codes))\n",
    "print(\"The possible period of transactions observation is %s.\" % transactions_data['tr_datetime'][len(transactions_data) - 1])"
   ]
  },
  {
   "cell_type": "markdown",
   "metadata": {},
   "source": [
    "## Clients datasets"
   ]
  },
  {
   "cell_type": "code",
   "execution_count": 63,
   "metadata": {
    "collapsed": true
   },
   "outputs": [],
   "source": [
    "def get_customers_dict(transactions_data):\n",
    "    customers_data = {}\n",
    "    customers_id = np.unique(transactions_data['customer_id'])\n",
    "    for customer in customers_id:\n",
    "        customers_data[customer] = transactions_data[transactions_data['customer_id'] == customer]\n",
    "    return customers_id, customers_data"
   ]
  },
  {
   "cell_type": "code",
   "execution_count": 16,
   "metadata": {
    "collapsed": true
   },
   "outputs": [],
   "source": [
    "customers_id, customers_data = get_customers_dict(transactions_data)"
   ]
  },
  {
   "cell_type": "markdown",
   "metadata": {},
   "source": [
    "Let's build a plot for every clients with dependency $amount(time)$ to look at outliers. "
   ]
  },
  {
   "cell_type": "code",
   "execution_count": 17,
   "metadata": {
    "scrolled": true
   },
   "outputs": [
    {
     "data": {
      "image/png": "[encoded data removed]",
      "text/plain": [
       "<matplotlib.figure.Figure at 0x1eb94c180b8>"
      ]
     },
     "metadata": {},
     "output_type": "display_data"
    }
   ],
   "source": [
    "for customer in customers_id:\n",
    "    customers_data[customer]['amount'].plot()"
   ]
  },
  {
   "cell_type": "markdown",
   "metadata": {},
   "source": [
    "Let's check out transactions amount distribution"
   ]
  },
  {
   "cell_type": "code",
   "execution_count": 18,
   "metadata": {
    "scrolled": true
   },
   "outputs": [
    {
     "data": {
      "image/png": "[encoded data removed]",
      "text/plain": [
       "<matplotlib.figure.Figure at 0x1ebfb9f48d0>"
      ]
     },
     "metadata": {},
     "output_type": "display_data"
    }
   ],
   "source": [
    "plt.hist(x = transactions_data['amount'], bins=100, log=True)\n",
    "plt.title('Amount distribution in log scale')\n",
    "plt.show()"
   ]
  },
  {
   "cell_type": "markdown",
   "metadata": {},
   "source": [
    "Let's check out the disturbtion of transactions number"
   ]
  },
  {
   "cell_type": "code",
   "execution_count": 19,
   "metadata": {
    "collapsed": true
   },
   "outputs": [],
   "source": [
    "q = []\n",
    "for customer in customers_id:\n",
    "    q.append(len(customers_data[customer]))"
   ]
  },
  {
   "cell_type": "code",
   "execution_count": 20,
   "metadata": {},
   "outputs": [
    {
     "data": {
      "image/png": "[encoded data removed]",
      "text/plain": [
       "<matplotlib.figure.Figure at 0x1ebff0c10b8>"
      ]
     },
     "metadata": {},
     "output_type": "display_data"
    }
   ],
   "source": [
    "plt.hist(x=q, bins=100, log=True)\n",
    "plt.title('Number of transactions for client distribution')\n",
    "plt.show()"
   ]
  },
  {
   "cell_type": "markdown",
   "metadata": {},
   "source": [
    "Let's build plot of $amount(time)$ dependency for random 10 clients."
   ]
  },
  {
   "cell_type": "code",
   "execution_count": 21,
   "metadata": {},
   "outputs": [
    {
     "data": {
      "image/png": "[encoded data removed]",
      "text/plain": [
       "<matplotlib.figure.Figure at 0x1ebff431978>"
      ]
     },
     "metadata": {},
     "output_type": "display_data"
    },
    {
     "data": {
      "image/png": "[encoded data removed]",
      "text/plain": [
       "<matplotlib.figure.Figure at 0x1ebff9300f0>"
      ]
     },
     "metadata": {},
     "output_type": "display_data"
    },
    {
     "data": {
      "image/png": "[encoded data removed]",
      "text/plain": [
       "<matplotlib.figure.Figure at 0x1ebff99a1d0>"
      ]
     },
     "metadata": {},
     "output_type": "display_data"
    },
    {
     "data": {
      "image/png": "[encoded data removed]",
      "text/plain": [
       "<matplotlib.figure.Figure at 0x1ec1d782be0>"
      ]
     },
     "metadata": {},
     "output_type": "display_data"
    },
    {
     "data": {
      "image/png": "[encoded data removed]",
      "text/plain": [
       "<matplotlib.figure.Figure at 0x1ec1d7beef0>"
      ]
     },
     "metadata": {},
     "output_type": "display_data"
    }
   ],
   "source": [
    "rand_customers = np.random.randint(low=0, high=len(customers_id - 1), size = 5)\n",
    "for id in rand_customers:\n",
    "    customers_data[customers_id[id]][['amount', 'tr_datetime']].plot()"
   ]
  },
  {
   "cell_type": "markdown",
   "metadata": {},
   "source": [
    "## Filter by transactions amount"
   ]
  },
  {
   "cell_type": "markdown",
   "metadata": {},
   "source": [
    "Let's get 5 customers with highest amount of transactions"
   ]
  },
  {
   "cell_type": "code",
   "execution_count": 22,
   "metadata": {
    "collapsed": true
   },
   "outputs": [],
   "source": [
    "transactions_length = list(zip(customers_id, map(lambda x: len(customers_data[x]), customers_id)))"
   ]
  },
  {
   "cell_type": "code",
   "execution_count": 23,
   "metadata": {
    "collapsed": true
   },
   "outputs": [],
   "source": [
    "transactions_length.sort(key=lambda x: x[1], reverse = True)"
   ]
  },
  {
   "cell_type": "code",
   "execution_count": 24,
   "metadata": {},
   "outputs": [
    {
     "data": {
      "text/plain": [
       "[(70780820, 88781),\n",
       " (45479973, 34229),\n",
       " (90796706, 26856),\n",
       " (6736634, 25944),\n",
       " (60151282, 21111)]"
      ]
     },
     "execution_count": 24,
     "metadata": {},
     "output_type": "execute_result"
    }
   ],
   "source": [
    "transactions_length[:5]"
   ]
  },
  {
   "cell_type": "code",
   "execution_count": 25,
   "metadata": {
    "collapsed": true
   },
   "outputs": [],
   "source": [
    "customers_data[transactions_length[:5][0][0]].to_csv('transactions/' + str(transactions_length[:5][0][0]) + '.csv')\n",
    "customers_data[transactions_length[:5][1][0]].to_csv('transactions/' + str(transactions_length[:5][1][0]) + '.csv')\n",
    "customers_data[transactions_length[:5][2][0]].to_csv('transactions/' + str(transactions_length[:5][2][0]) + '.csv')\n",
    "customers_data[transactions_length[:5][3][0]].to_csv('transactions/' + str(transactions_length[:5][3][0]) + '.csv')\n",
    "customers_data[transactions_length[:5][4][0]].to_csv('transactions/' + str(transactions_length[:5][4][0]) + '.csv')"
   ]
  },
  {
   "cell_type": "markdown",
   "metadata": {},
   "source": [
    "## Filter by mcc codes popularity"
   ]
  },
  {
   "cell_type": "code",
   "execution_count": 54,
   "metadata": {},
   "outputs": [],
   "source": [
    "mcc_codes = np.unique(transactions_data['mcc_code'])\n",
    "transactions_by_codes = {}\n",
    "for code in mcc_codes:\n",
    "    transactions_by_codes[code] = len(transactions_data[transactions_data['mcc_code'] == code])\n",
    "most_valuable_codes = list(pd.Series(transactions_by_codes).sort_values(ascending=False)[:7].keys())"
   ]
  },
  {
   "cell_type": "markdown",
   "metadata": {},
   "source": [
    "Get rid of codes 6010 and 6011, because we investigate them in case of top 5 clients by transaction amount."
   ]
  },
  {
   "cell_type": "code",
   "execution_count": 55,
   "metadata": {},
   "outputs": [],
   "source": [
    "most_valuable_codes.remove(6010)\n",
    "most_valuable_codes.remove(6011)"
   ]
  },
  {
   "cell_type": "code",
   "execution_count": 64,
   "metadata": {},
   "outputs": [],
   "source": [
    "mcc_customers_id, mcc_customers_data = get_customers_dict(transactions_data[transactions_data['mcc_code'].isin(most_valuable_codes)])"
   ]
  },
  {
   "cell_type": "code",
   "execution_count": 65,
   "metadata": {},
   "outputs": [
    {
     "data": {
      "text/plain": [
       "[(7999570, 14987),\n",
       " (46890366, 8732),\n",
       " (5546147, 4453),\n",
       " (76510478, 4276),\n",
       " (70665012, 3957)]"
      ]
     },
     "execution_count": 65,
     "metadata": {},
     "output_type": "execute_result"
    }
   ],
   "source": [
    "transactions_mcc_length = list(zip(mcc_customers_id, map(lambda x: len(mcc_customers_data[x]), mcc_customers_id)))\n",
    "transactions_mcc_length.sort(key=lambda x: x[1], reverse = True)\n",
    "transactions_mcc_length[:5]"
   ]
  },
  {
   "cell_type": "code",
   "execution_count": 67,
   "metadata": {},
   "outputs": [],
   "source": [
    "mcc_customers_data[transactions_mcc_length[:5][0][0]].to_csv('mcc/' + str(transactions_mcc_length[:5][0][0]) + '.csv')\n",
    "mcc_customers_data[transactions_mcc_length[:5][1][0]].to_csv('mcc/' + str(transactions_mcc_length[:5][1][0]) + '.csv')\n",
    "mcc_customers_data[transactions_mcc_length[:5][2][0]].to_csv('mcc/' + str(transactions_mcc_length[:5][2][0]) + '.csv')\n",
    "mcc_customers_data[transactions_mcc_length[:5][3][0]].to_csv('mcc/' + str(transactions_mcc_length[:5][3][0]) + '.csv')\n",
    "mcc_customers_data[transactions_mcc_length[:5][4][0]].to_csv('mcc/' + str(transactions_mcc_length[:5][4][0]) + '.csv')"
   ]
  }
 ],
 "metadata": {
  "anaconda-cloud": {},
  "kernelspec": {
   "display_name": "Python 3",
   "language": "python",
   "name": "python3"
  },
  "language_info": {
   "codemirror_mode": {
    "name": "ipython",
    "version": 3
   },
   "file_extension": ".py",
   "mimetype": "text/x-python",
   "name": "python",
   "nbconvert_exporter": "python",
   "pygments_lexer": "ipython3",
   "version": "3.6.3"
  }
 },
 "nbformat": 4,
 "nbformat_minor": 1
}
