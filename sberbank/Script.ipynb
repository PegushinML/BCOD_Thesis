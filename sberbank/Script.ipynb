{
 "cells": [
  {
   "cell_type": "code",
   "execution_count": 101,
   "metadata": {
    "collapsed": true
   },
   "outputs": [],
   "source": [
    "import numpy as np\n",
    "import matplotlib.pyplot as plt\n",
    "import scipy.special as sp\n",
    "% matplotlib inline"
   ]
  },
  {
   "cell_type": "code",
   "execution_count": 264,
   "metadata": {
    "collapsed": true
   },
   "outputs": [],
   "source": [
    "#Steps to generate\n",
    "T = 1000\n",
    "\n",
    "# Specify the hazard function.\n",
    "# This is a handle to a function that takes one argument - the number of\n",
    "# time increments since the last changepoint - and returns a value in\n",
    "# the interval [0,1] that is the probability of changepoint.  Generally\n",
    "# you might want to have your hazard function take parameters, so using\n",
    "# an anonymous function is helpful.  We're going to just use the simple\n",
    "# constant-rate hazard function that gives geomtrically-drawn intervals between changepoints.  \n",
    "# We'll specify the rate via a mean.\n",
    "\n",
    "lambd = 200.0\n",
    "def hazard_func(r):\n",
    "    return 1/lambd\n",
    "\n",
    "# This data is Gaussian with unknown mean and variance.  We are going to\n",
    "# use the standard conjugate prior of a normal-inverse-gamma.  Note that\n",
    "# one cannot use non-informative priors for changepoint detection in\n",
    "# this construction.  The NIG yields a closed-form predictive\n",
    "# distribution, which makes it easy to use in this context.  There are\n",
    "# lots of references out there for doing this kind of inference - for\n",
    "# example Chris Bishop's \"Pattern Recognition and Machine Learning\" in\n",
    "# Chapter 2.  Also, Kevin Murphy's lecture notes.\n",
    "\n",
    "mu0    = 0\n",
    "kappa0 = 1\n",
    "alpha0 = 1\n",
    "beta0  = 1\n",
    "\n",
    "# This will hold the data.  Preallocate for a slight speed improvement.\n",
    "X = np.zeros(T)\n",
    "\n",
    "# Store the times of changepoints.  It's useful to see them.\n",
    "CP = [0]"
   ]
  },
  {
   "cell_type": "code",
   "execution_count": 265,
   "metadata": {},
   "outputs": [],
   "source": [
    "# Generate the initial parameters of the Gaussian from the prior.\n",
    "curr_ivar = np.random.gamma(alpha0)/beta0;\n",
    "curr_mean = pow((kappa0*curr_ivar),(-0.5))*np.random.normal() + mu0;"
   ]
  },
  {
   "cell_type": "code",
   "execution_count": 266,
   "metadata": {},
   "outputs": [],
   "source": [
    "#The initial run length is zero\n",
    "curr_run = 0;"
   ]
  },
  {
   "cell_type": "code",
   "execution_count": 267,
   "metadata": {},
   "outputs": [],
   "source": [
    "#Now, loop forward in time and generate data.\n",
    "for t in range(0,T):\n",
    "    # Get the probability of a new changepoint.\n",
    "    p = hazard_func(curr_run)\n",
    "    \n",
    "    # Randomly generate a changepoint, perhaps.\n",
    "    if np.random.uniform() < p:\n",
    "        \n",
    "        # Generate new Gaussian parameters from the prior.\n",
    "        curr_ivar = np.random.gamma(alpha0)*beta0\n",
    "        curr_mean = pow((kappa0*curr_ivar), (-0.5))*np.random.normal() + mu0\n",
    "        \n",
    "        # The run length drops back to zero.\n",
    "        curr_run = 0\n",
    "        \n",
    "        # Add this changepoint to the end of the list.\n",
    "        CP.append(t)\n",
    "    else:\n",
    "        # Increment the run length if there was no changepoint.\n",
    "        curr_run = curr_run + 1\n",
    "        \n",
    "    # Draw data from the current parameters.\n",
    "    X[t] = pow(curr_ivar, (-0.5)) * np.random.normal() + curr_mean"
   ]
  },
  {
   "cell_type": "code",
   "execution_count": 268,
   "metadata": {
    "scrolled": true
   },
   "outputs": [
    {
     "data": {
      "text/plain": [
       "[<matplotlib.lines.Line2D at 0x2677952efd0>]"
      ]
     },
     "execution_count": 268,
     "metadata": {},
     "output_type": "execute_result"
    },
    {
     "data": {
      "image/png": "[encoded data removed]",
      "text/plain": [
       "<matplotlib.figure.Figure at 0x267794e6cc0>"
      ]
     },
     "metadata": {},
     "output_type": "display_data"
    }
   ],
   "source": [
    "plt.plot(range(0,T), X)"
   ]
  },
  {
   "cell_type": "code",
   "execution_count": 269,
   "metadata": {},
   "outputs": [],
   "source": [
    "# Now we have some data in X and it's time to perform inference.\n",
    "# First, setup the matrix that will hold our beliefs about the current\n",
    "# run lengths.  We'll initialize it all to zero at first.  Obviously\n",
    "# we're assuming here that we know how long we're going to do the\n",
    "# inference.  You can imagine other data structures that don't make that\n",
    "# assumption (e.g. linked lists).  We're doing this because it's easy.\n",
    "R= np.zeros([T+1, T])"
   ]
  },
  {
   "cell_type": "code",
   "execution_count": 270,
   "metadata": {},
   "outputs": [],
   "source": [
    "# At time t=1, we actually have complete knowledge about the run\n",
    "# length.  It is definitely zero.  See the paper for other possible\n",
    "# boundary conditions.\n",
    "R[0,1] = 1"
   ]
  },
  {
   "cell_type": "code",
   "execution_count": 271,
   "metadata": {
    "collapsed": true
   },
   "outputs": [],
   "source": [
    "# Track the current set of parameters.  These start out at the prior and\n",
    "# accumulate data as we proceed.\n",
    "\n",
    "muT    = np.array([mu0])\n",
    "kappaT = np.array([kappa0])\n",
    "alphaT = np.array([alpha0])\n",
    "betaT  = np.array([beta0])"
   ]
  },
  {
   "cell_type": "code",
   "execution_count": 272,
   "metadata": {
    "collapsed": true
   },
   "outputs": [],
   "source": [
    "# Keep track of the maximums.\n",
    "maxes  = np.zeros(T+1);"
   ]
  },
  {
   "cell_type": "code",
   "execution_count": 273,
   "metadata": {
    "collapsed": true
   },
   "outputs": [],
   "source": [
    "# specify student density function\n",
    "def studentpdf(x, mu, var, nu):\n",
    "    # This form is taken from Kevin Murphy's lecture notes.\n",
    "    c = np.exp(sp.gammaln(nu/2 + 0.5) - sp.gammaln(nu/2)) * pow((nu*np.pi*var), (-0.5))  \n",
    "    return (c * pow((1 + (1/(nu*var))*pow((x-mu),2)), (-(nu+1)/2))).transpose()"
   ]
  },
  {
   "cell_type": "code",
   "execution_count": 274,
   "metadata": {
    "collapsed": true
   },
   "outputs": [],
   "source": [
    "def find_max_indicies(arr):\n",
    "    maximum = max(arr)\n",
    "    indicies = []\n",
    "    for i in range(0, len(arr)):\n",
    "        if arr[i] == maximum:\n",
    "            indicies.append(i)\n",
    "    return np.array(indicies)"
   ]
  },
  {
   "cell_type": "code",
   "execution_count": 275,
   "metadata": {},
   "outputs": [],
   "source": [
    "# Loop over the data like we're seeing it all for the first time.\n",
    "for t in range(1,T - 1):\n",
    "  \n",
    "    # Evaluate the predictive distribution for the new datum under each of\n",
    "    # the parameters.  This is the standard thing from Bayesian inference.\n",
    "    predprobs = studentpdf(X[t], muT, betaT*(kappaT+1)/(alphaT*kappaT), 2 * alphaT);\n",
    "\n",
    "    # Evaluate the hazard function for this interval.\n",
    "    H = hazard_func(range(1,T));\n",
    "\n",
    "    # Evaluate the growth probabilities - shift the probabilities down and to\n",
    "    # the right, scaled by the hazard function and the predictive\n",
    "    # probabilities.\n",
    "    R[1:t+1,t+1] = R[0:t,t]* predprobs * (1-H);\n",
    "\n",
    "    # Evaluate the probability that there *was* a changepoint and we're\n",
    "    # accumulating the mass back down at r = 0.\n",
    "    R[0,t+1] = sum((R[0:t,t] * predprobs * H).flatten() );\n",
    "\n",
    "    # Renormalize the run length probabilities for improved numerical\n",
    "    # stability.\n",
    "    R[:,t+1] = R[:,t+1] / sum(R[:,t+1]);\n",
    "\n",
    "    # Update the parameter sets for each possible run length.\n",
    "    muT0    = np.vstack([mu0, (kappaT*muT + X[t]) / (kappaT+1)])\n",
    "    kappaT0  = np.vstack([kappa0, kappaT + 1])\n",
    "    alphaT0  = np.vstack([ alpha0 , alphaT + 0.5 ])\n",
    "    betaT0   = np.vstack([ beta0  , betaT + (kappaT *pow((X[t]-muT),2))/(2*(kappaT+1)) ])\n",
    "    \n",
    "    muT = muT0\n",
    "    kappaT = kappaT0\n",
    "    alphaT = alphaT0\n",
    "    betaT = betaT0\n",
    "\n",
    "    # Store the maximum, to plot later.\n",
    "    maxes[t] = find_max_indicies(R[:,t])"
   ]
  },
  {
   "cell_type": "code",
   "execution_count": 276,
   "metadata": {},
   "outputs": [
    {
     "data": {
      "text/plain": [
       "[<matplotlib.lines.Line2D at 0x26779427208>]"
      ]
     },
     "execution_count": 276,
     "metadata": {},
     "output_type": "execute_result"
    },
    {
     "data": {
      "image/png": "[encoded data removed]",
      "text/plain": [
       "<matplotlib.figure.Figure at 0x26779152ac8>"
      ]
     },
     "metadata": {},
     "output_type": "display_data"
    }
   ],
   "source": [
    "plt.plot(range(0,1001), maxes)"
   ]
  },
  {
   "cell_type": "code",
   "execution_count": null,
   "metadata": {
    "collapsed": true
   },
   "outputs": [],
   "source": []
  }
 ],
 "metadata": {
  "kernelspec": {
   "display_name": "Python 3",
   "language": "python",
   "name": "python3"
  },
  "language_info": {
   "codemirror_mode": {
    "name": "ipython",
    "version": 3
   },
   "file_extension": ".py",
   "mimetype": "text/x-python",
   "name": "python",
   "nbconvert_exporter": "python",
   "pygments_lexer": "ipython3",
   "version": "3.6.3"
  }
 },
 "nbformat": 4,
 "nbformat_minor": 2
}
