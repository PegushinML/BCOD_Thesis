{
 "cells": [
  {
   "cell_type": "code",
   "execution_count": 1,
   "metadata": {
    "collapsed": true
   },
   "outputs": [],
   "source": [
    "import numpy as np\n",
    "import matplotlib.pyplot as plt\n",
    "import scipy.special as sp\n",
    "import bayesian_online_changepoint_detection as bcod\n",
    "% matplotlib inline"
   ]
  },
  {
   "cell_type": "code",
   "execution_count": 2,
   "metadata": {
    "collapsed": true
   },
   "outputs": [],
   "source": [
    "def generate_data(T):\n",
    "    # Specify the hazard function.\n",
    "    # This is a handle to a function that takes one argument - the number of\n",
    "    # time increments since the last changepoint - and returns a value in\n",
    "    # the interval [0,1] that is the probability of changepoint.  Generally\n",
    "    # you might want to have your hazard function take parameters, so using\n",
    "    # an anonymous function is helpful.  We're going to just use the simple\n",
    "    # constant-rate hazard function that gives geomtrically-drawn intervals between changepoints.  \n",
    "    # We'll specify the rate via a mean.\n",
    "\n",
    "    lambd = 0.001\n",
    "    def hazard_func(r):\n",
    "        return lambd\n",
    "\n",
    "    # This data is Gaussian with unknown mean and variance.  We are going to\n",
    "    # use the standard conjugate prior of a normal-inverse-gamma.  Note that\n",
    "    # one cannot use non-informative priors for changepoint detection in\n",
    "    # this construction.  The NIG yields a closed-form predictive\n",
    "    # distribution, which makes it easy to use in this context.  There are\n",
    "    # lots of references out there for doing this kind of inference - for\n",
    "    # example Chris Bishop's \"Pattern Recognition and Machine Learning\" in\n",
    "    # Chapter 2.  Also, Kevin Murphy's lecture notes.\n",
    "\n",
    "    mu0    = 0\n",
    "    kappa0 = 1\n",
    "    alpha0 = 1\n",
    "    beta0  = 1\n",
    "\n",
    "    # This will hold the data.  Preallocate for a slight speed improvement.\n",
    "    X = np.zeros(T)\n",
    "\n",
    "    # Store the times of changepoints.  It's useful to see them.\n",
    "    CP = [0]\n",
    "    \n",
    "    # Generate the initial parameters of the Gaussian from the prior.\n",
    "    curr_ivar = np.random.gamma(alpha0)/beta0;\n",
    "    curr_mean = pow((kappa0*curr_ivar),(-0.5))*np.random.normal() + mu0;\n",
    "    \n",
    "    #The initial run length is zero\n",
    "    curr_run = 0\n",
    "    \n",
    "    #Now, loop forward in time and generate data.\n",
    "    for t in range(0,T):\n",
    "        # Get the probability of a new changepoint.\n",
    "        p = hazard_func(curr_run)\n",
    "\n",
    "        # Randomly generate a changepoint, perhaps.\n",
    "        if np.random.uniform() < p:\n",
    "\n",
    "            # Generate new Gaussian parameters from the prior.\n",
    "            curr_ivar = np.random.gamma(alpha0)*beta0\n",
    "            curr_mean = pow((kappa0*curr_ivar), (-0.5))*np.random.normal() + mu0\n",
    "\n",
    "            # The run length drops back to zero.\n",
    "            curr_run = 0\n",
    "\n",
    "            # Add this changepoint to the end of the list.\n",
    "            CP.append(t)\n",
    "        else:\n",
    "            # Increment the run length if there was no changepoint.\n",
    "            curr_run = curr_run + 1\n",
    "\n",
    "        # Draw data from the current parameters.\n",
    "        X[t] = pow(curr_ivar, (-0.5)) * np.random.normal() + curr_mean\n",
    "    return X , CP"
   ]
  },
  {
   "cell_type": "code",
   "execution_count": 3,
   "metadata": {
    "collapsed": true
   },
   "outputs": [],
   "source": [
    "#prepare lists for true changepoints and calculated ones\n",
    "changepoints = []\n",
    "result_changepoints = []"
   ]
  },
  {
   "cell_type": "code",
   "execution_count": 4,
   "metadata": {
    "collapsed": true
   },
   "outputs": [],
   "source": [
    "for i in range(0,100):\n",
    "    data, CP = generate_data(5000)\n",
    "    changepoints.append(CP)\n",
    "    bayes_detector = bcod.Detector(lag = 30)\n",
    "    result, most_probable_path = bayes_detector.inference(data)\n",
    "    result_changepoints.append(most_probable_path)"
   ]
  },
  {
   "cell_type": "code",
   "execution_count": 23,
   "metadata": {
    "collapsed": true
   },
   "outputs": [],
   "source": [
    "#get changepoint data from result\n",
    "found_changepoints = []\n",
    "for result in result_changepoints:\n",
    "    single_data = []\n",
    "    #set second index to get rid of initial and final changepoints\n",
    "    for i in range(2, len(result) -2):\n",
    "        if result[i] == 0:\n",
    "            single_data.append(i)\n",
    "    found_changepoints.append(single_data)"
   ]
  },
  {
   "cell_type": "code",
   "execution_count": 32,
   "metadata": {},
   "outputs": [],
   "source": [
    "#get rid of initial changepoints\n",
    "for data in changepoints:\n",
    "    data.remove(0)"
   ]
  },
  {
   "cell_type": "code",
   "execution_count": 51,
   "metadata": {},
   "outputs": [
    {
     "name": "stdout",
     "output_type": "stream",
     "text": [
      "There are 539 changepoints \n",
      "There are 498 found changepoints\n"
     ]
    }
   ],
   "source": [
    "all_changepoints = sum(map(lambda array: len(array), changepoints))\n",
    "all_found_changepoints = sum(map(lambda array: len(array), found_changepoints))\n",
    "print(\"There are {} changepoints \".format(all_changepoints))\n",
    "print(\"There are {} found changepoints\".format(all_found_changepoints))"
   ]
  },
  {
   "cell_type": "code",
   "execution_count": 40,
   "metadata": {
    "collapsed": true
   },
   "outputs": [],
   "source": [
    "T = 0\n",
    "F = 0\n",
    "FA = 0\n",
    "for i in range(0,100):\n",
    "    for changepoint in changepoints[i]:\n",
    "        if changepoint in found_changepoints[i]:\n",
    "            T = T + 1\n",
    "        else:\n",
    "            F = F + 1\n",
    "    for found_changepoint in found_changepoints[i]:\n",
    "        if found_changepoint not in changepoints[i]:\n",
    "            FA = FA + 1"
   ]
  },
  {
   "cell_type": "code",
   "execution_count": 42,
   "metadata": {},
   "outputs": [
    {
     "name": "stdout",
     "output_type": "stream",
     "text": [
      "There are 231 changepoints were correctly detected with zero error\n",
      "There are 308 changepoints weren't correctly detected with zero error\n",
      "There were 267  false detection of changepoints with zero error\n"
     ]
    }
   ],
   "source": [
    "print(\"There are {} changepoints were correctly detected with zero error\".format(T))\n",
    "print(\"There are {} changepoints weren't correctly detected with zero error\".format(F))\n",
    "print(\"There were {}  false detection of changepoints with zero error\".format(FA))"
   ]
  },
  {
   "cell_type": "code",
   "execution_count": 52,
   "metadata": {},
   "outputs": [],
   "source": [
    "T_10 = 0\n",
    "F_10 = 0\n",
    "FA_10 = 0\n",
    "for i in range(0,100):\n",
    "    for changepoint in changepoints[i]:\n",
    "        overlap = 0\n",
    "        for found_changepoint in found_changepoints[i]:\n",
    "            if abs(changepoint - found_changepoint) < 10:\n",
    "                overlap = overlap + 1\n",
    "        if overlap == 0:\n",
    "            F_10 = F_10 + 1\n",
    "        else:\n",
    "            T_10 = T_10 + 1\n",
    "FA_10 = all_found_changepoints - T_10       "
   ]
  },
  {
   "cell_type": "code",
   "execution_count": 56,
   "metadata": {},
   "outputs": [
    {
     "name": "stdout",
     "output_type": "stream",
     "text": [
      "There are 457 changepoints were correctly detected with 10 observations error\n",
      "There are 82 changepoints weren't correctly detected with 10 observations error\n",
      "There were 41  false detection of changepoints with 10 observations error\n"
     ]
    }
   ],
   "source": [
    "print(\"There are {} changepoints were correctly detected with 10 observations error\".format(T_10))\n",
    "print(\"There are {} changepoints weren't correctly detected with 10 observations error\".format(F_10))\n",
    "print(\"There were {}  false detection of changepoints with 10 observations error\".format(FA_10))"
   ]
  },
  {
   "cell_type": "code",
   "execution_count": 54,
   "metadata": {},
   "outputs": [],
   "source": [
    "T_50 = 0\n",
    "F_50 = 0\n",
    "FA_50 = 0\n",
    "for i in range(0,100):\n",
    "    for changepoint in changepoints[i]:\n",
    "        overlap = 0\n",
    "        for found_changepoint in found_changepoints[i]:\n",
    "            if abs(changepoint - found_changepoint) < 50:\n",
    "                overlap = overlap + 1\n",
    "        if overlap == 0:\n",
    "            F_50 = F_50 + 1\n",
    "        else:\n",
    "            T_50 = T_50 + 1\n",
    "FA_50 = all_found_changepoints - T_50  "
   ]
  },
  {
   "cell_type": "code",
   "execution_count": 57,
   "metadata": {},
   "outputs": [
    {
     "name": "stdout",
     "output_type": "stream",
     "text": [
      "There are 497 changepoints were correctly detected with 50 observations error\n",
      "There are 42 changepoints weren't correctly detected with 50 observations error\n",
      "There were 1  false detection of changepoints with 50 observations error\n"
     ]
    }
   ],
   "source": [
    "print(\"There are {} changepoints were correctly detected with 50 observations error\".format(T_50))\n",
    "print(\"There are {} changepoints weren't correctly detected with 50 observations error\".format(F_50))\n",
    "print(\"There were {}  false detection of changepoints with 50 observations error\".format(FA_50))"
   ]
  }
 ],
 "metadata": {
  "kernelspec": {
   "display_name": "Python 3",
   "language": "python",
   "name": "python3"
  },
  "language_info": {
   "codemirror_mode": {
    "name": "ipython",
    "version": 3
   },
   "file_extension": ".py",
   "mimetype": "text/x-python",
   "name": "python",
   "nbconvert_exporter": "python",
   "pygments_lexer": "ipython3",
   "version": "3.6.3"
  }
 },
 "nbformat": 4,
 "nbformat_minor": 2
}
